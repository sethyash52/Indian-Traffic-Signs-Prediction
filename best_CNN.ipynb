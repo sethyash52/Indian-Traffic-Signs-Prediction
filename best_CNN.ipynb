{
  "cells": [
    {
      "cell_type": "code",
      "execution_count": 3,
      "metadata": {
        "id": "36aZe8YNR2Fy"
      },
      "outputs": [],
      "source": [
        "import matplotlib.pyplot as plt\n",
        "import numpy as np\n",
        "import seaborn as sns\n",
        "from sklearn.model_selection import train_test_split\n",
        "import pandas as pd\n",
        "\n",
        "img=pd.read_csv('train_data.csv') #reading training data\n",
        "test=pd.read_csv('test_data.csv') #reading testing data\n",
        "\n",
        "s=test[[\"ID\"]] #storing Class column of test data in a variable to transfer it into submission file afterwards\n",
        "train_class=img['Class']\n",
        "\n",
        "# Deleting unncessary columns from training and test file\n",
        "img.drop('ID', inplace=True, axis=1)\n",
        "img.drop('Class', inplace=True, axis=1)\n",
        "test.drop('ID', inplace=True, axis=1)\n",
        "test.drop('Class', inplace=True, axis=1)\n",
        "\n",
        "\n",
        "#renaming variables for better understandibility\n",
        "test_data=test.values\n",
        "train_data=img.values\n",
        "train_label=train_class.values\n"
      ]
    },
    {
      "cell_type": "code",
      "execution_count": 4,
      "metadata": {
        "id": "rCdfqQ_sSFOI"
      },
      "outputs": [
        {
          "data": {
            "text/plain": [
              "((932, 50, 50, 1), (400, 50, 50, 1))"
            ]
          },
          "execution_count": 4,
          "metadata": {},
          "output_type": "execute_result"
        }
      ],
      "source": [
        "train_data = train_data.reshape(-1, 50,50, 1)\n",
        "test_data = test_data.reshape(-1, 50,50, 1)\n",
        "train_data.shape, test_data.shape"
      ]
    },
    {
      "cell_type": "code",
      "execution_count": 5,
      "metadata": {},
      "outputs": [
        {
          "data": {
            "text/plain": [
              "(dtype('int64'), dtype('int64'))"
            ]
          },
          "execution_count": 5,
          "metadata": {},
          "output_type": "execute_result"
        }
      ],
      "source": [
        "train_data.dtype, test_data.dtype"
      ]
    },
    {
      "cell_type": "code",
      "execution_count": 25,
      "metadata": {},
      "outputs": [],
      "source": [
        "from keras.preprocessing.image import ImageDataGenerator\n",
        "datagen = ImageDataGenerator(\n",
        "        rotation_range = 10,\n",
        "        shear_range = 0.2,\n",
        "        zoom_range = 0.2,\n",
        "        #horizontal_flip = True,\n",
        "        #vertical_flip=True,\n",
        "        brightness_range = (0.5, 1.5))"
      ]
    },
    {
      "cell_type": "code",
      "execution_count": 26,
      "metadata": {},
      "outputs": [
        {
          "name": "stdout",
          "output_type": "stream",
          "text": [
            "(932, 50, 50, 1)\n"
          ]
        }
      ],
      "source": [
        "new_train_data=[]\n",
        "for i in range(len(train_data)):\n",
        "  new_train_data.append(train_data[i])\n",
        "print(np.shape(new_train_data))"
      ]
    },
    {
      "cell_type": "code",
      "execution_count": 28,
      "metadata": {},
      "outputs": [],
      "source": [
        "train_data1=[]\n",
        "train_label1=[]\n",
        "for i in range(len(new_train_data)):\n",
        "  for j in range(200):\n",
        "    new_data=datagen.flow(new_train_data[i].reshape(1,50,50,1))\n",
        "    new_data=np.reshape(new_data[0],(50,50))\n",
        "    train_data1.append(new_data)\n",
        "    train_label1.append(train_label[i])"
      ]
    },
    {
      "cell_type": "code",
      "execution_count": 29,
      "metadata": {},
      "outputs": [
        {
          "data": {
            "text/plain": [
              "(279600, 50, 50)"
            ]
          },
          "execution_count": 29,
          "metadata": {},
          "output_type": "execute_result"
        }
      ],
      "source": [
        "np.shape(train_data1)"
      ]
    },
    {
      "cell_type": "code",
      "execution_count": 30,
      "metadata": {},
      "outputs": [],
      "source": [
        "from sklearn.utils import shuffle\n",
        "import numpy as np\n",
        "\n",
        "X = np.array(train_data1)\n",
        "y = np.array(train_label1)\n",
        "train_data1, train_label1 = shuffle(X, y)"
      ]
    },
    {
      "cell_type": "code",
      "execution_count": null,
      "metadata": {},
      "outputs": [],
      "source": [
        "X_train, X_test1,train_label1, y_test = train_test_split(train_data1, train_label1,test_size=0.25,shuffle=True,stratify=train_label1)"
      ]
    },
    {
      "cell_type": "code",
      "execution_count": 32,
      "metadata": {},
      "outputs": [],
      "source": [
        "X_train = train_data1.astype(\"float32\") / 255\n",
        "X_test = test_data.astype(\"float32\") / 255\n",
        "X_test1 = test_data.astype(\"float32\") / 255"
      ]
    },
    {
      "cell_type": "code",
      "execution_count": 33,
      "metadata": {},
      "outputs": [
        {
          "data": {
            "image/png": "[encoded data removed]",
            "text/plain": [
              "<Figure size 1200x600 with 10 Axes>"
            ]
          },
          "metadata": {},
          "output_type": "display_data"
        }
      ],
      "source": [
        "fig, axs = plt.subplots(2, 5, sharey=False, tight_layout=True, figsize=(12,6), facecolor='white')\n",
        "n=0\n",
        "for i in range(0,2):\n",
        "    for j in range(0,5):\n",
        "        axs[i,j].matshow(X_train[n])\n",
        "        axs[i,j].set(title=train_label1[n])\n",
        "        n=n+1\n",
        "plt.show() "
      ]
    },
    {
      "cell_type": "code",
      "execution_count": 34,
      "metadata": {},
      "outputs": [
        {
          "data": {
            "text/plain": [
              "(279600, 50, 50)"
            ]
          },
          "execution_count": 34,
          "metadata": {},
          "output_type": "execute_result"
        }
      ],
      "source": [
        "X_train.shape"
      ]
    },
    {
      "cell_type": "code",
      "execution_count": 35,
      "metadata": {},
      "outputs": [],
      "source": [
        "import tensorflow as tf\n",
        "from keras import layers, models\n",
        "cnn1 =models.Sequential([\n",
        "    layers.Conv2D(filters=32,kernel_size=(5,5),activation=\"relu\",input_shape=(50,50,1)),\n",
        "    layers.Conv2D(filters=32,kernel_size=(3,3),activation=\"relu\"),\n",
        "    layers.MaxPooling2D((2,2)),\n",
        "    layers.MaxPooling2D((2,2)),\n",
        "    layers.Dropout(rate=0.25),\n",
        "    layers.Conv2D(filters=64,kernel_size=(5,5),activation=\"relu\"),\n",
        "    layers.Conv2D(filters=64,kernel_size=(3,3),activation=\"relu\"),\n",
        "    layers.MaxPooling2D((2,2)),\n",
        "    layers.MaxPooling2D((2,2)),\n",
        "    layers.Dropout(rate=0.35),\n",
        "    \n",
        "    layers.Flatten(),\n",
        "    layers.Dense(256,activation=\"relu\"),\n",
        "    layers.Dropout(rate=0.5),\n",
        "    layers.BatchNormalization(),\n",
        "    layers.Dense(512,activation=\"relu\"),\n",
        "    layers.Dropout(rate=0.3),\n",
        "    \n",
        "    layers.Dense(31,activation=\"softmax\")])"
      ]
    },
    {
      "cell_type": "code",
      "execution_count": 36,
      "metadata": {},
      "outputs": [],
      "source": [
        "cnn1.compile(optimizer='adam',loss='sparse_categorical_crossentropy',metrics=['accuracy'])"
      ]
    },
    {
      "cell_type": "code",
      "execution_count": 37,
      "metadata": {},
      "outputs": [
        {
          "name": "stdout",
          "output_type": "stream",
          "text": [
            "Epoch 1/50\n",
            "8738/8738 [==============================] - 40s 5ms/step - loss: 0.6804 - accuracy: 0.8002\n",
            "Epoch 2/50\n",
            "8738/8738 [==============================] - 41s 5ms/step - loss: 0.2396 - accuracy: 0.9297\n",
            "Epoch 3/50\n",
            "8738/8738 [==============================] - 41s 5ms/step - loss: 0.1586 - accuracy: 0.9552\n",
            "Epoch 4/50\n",
            "8738/8738 [==============================] - 41s 5ms/step - loss: 0.1221 - accuracy: 0.9658\n",
            "Epoch 5/50\n",
            "8738/8738 [==============================] - 41s 5ms/step - loss: 0.1035 - accuracy: 0.9715\n",
            "Epoch 6/50\n",
            "8738/8738 [==============================] - 41s 5ms/step - loss: 0.0883 - accuracy: 0.9760\n",
            "Epoch 7/50\n",
            "8738/8738 [==============================] - 41s 5ms/step - loss: 0.0753 - accuracy: 0.9791\n",
            "Epoch 8/50\n",
            "8738/8738 [==============================] - 40s 5ms/step - loss: 0.0710 - accuracy: 0.9809\n",
            "Epoch 9/50\n",
            "8738/8738 [==============================] - 40s 5ms/step - loss: 0.0613 - accuracy: 0.9835\n",
            "Epoch 10/50\n",
            "8738/8738 [==============================] - 40s 5ms/step - loss: 0.0609 - accuracy: 0.9838\n",
            "Epoch 11/50\n",
            "8738/8738 [==============================] - 41s 5ms/step - loss: 0.0545 - accuracy: 0.9855\n",
            "Epoch 12/50\n",
            "8738/8738 [==============================] - 41s 5ms/step - loss: 0.0515 - accuracy: 0.9864\n",
            "Epoch 13/50\n",
            "8738/8738 [==============================] - 41s 5ms/step - loss: 0.0506 - accuracy: 0.9867\n",
            "Epoch 14/50\n",
            "8738/8738 [==============================] - 41s 5ms/step - loss: 0.0477 - accuracy: 0.9875\n",
            "Epoch 15/50\n",
            "8738/8738 [==============================] - 40s 5ms/step - loss: 0.0434 - accuracy: 0.9887\n",
            "Epoch 16/50\n",
            "8738/8738 [==============================] - 41s 5ms/step - loss: 0.0474 - accuracy: 0.9875\n",
            "Epoch 17/50\n",
            "8738/8738 [==============================] - 41s 5ms/step - loss: 0.0453 - accuracy: 0.9881\n",
            "Epoch 18/50\n",
            "8738/8738 [==============================] - 40s 5ms/step - loss: 0.0442 - accuracy: 0.9887\n",
            "Epoch 19/50\n",
            "8738/8738 [==============================] - 41s 5ms/step - loss: 0.0436 - accuracy: 0.9888\n",
            "Epoch 20/50\n",
            "8738/8738 [==============================] - 40s 5ms/step - loss: 0.0429 - accuracy: 0.9891\n",
            "Epoch 21/50\n",
            "8738/8738 [==============================] - 40s 5ms/step - loss: 0.0436 - accuracy: 0.9890\n",
            "Epoch 22/50\n",
            "8738/8738 [==============================] - 40s 5ms/step - loss: 0.0393 - accuracy: 0.9900\n",
            "Epoch 23/50\n",
            "8738/8738 [==============================] - 41s 5ms/step - loss: 0.0390 - accuracy: 0.9899\n",
            "Epoch 24/50\n",
            "8738/8738 [==============================] - 41s 5ms/step - loss: 0.0421 - accuracy: 0.9895\n",
            "Epoch 25/50\n",
            "8738/8738 [==============================] - 40s 5ms/step - loss: 0.0363 - accuracy: 0.9908\n",
            "Epoch 26/50\n",
            "8738/8738 [==============================] - 41s 5ms/step - loss: 0.0414 - accuracy: 0.9897\n",
            "Epoch 27/50\n",
            "8738/8738 [==============================] - 41s 5ms/step - loss: 0.0370 - accuracy: 0.9908\n",
            "Epoch 28/50\n",
            "8738/8738 [==============================] - 40s 5ms/step - loss: 0.0414 - accuracy: 0.9899\n",
            "Epoch 29/50\n",
            "8738/8738 [==============================] - 40s 5ms/step - loss: 0.0349 - accuracy: 0.9915\n",
            "Epoch 30/50\n",
            "8738/8738 [==============================] - 40s 5ms/step - loss: 0.0404 - accuracy: 0.9902\n",
            "Epoch 31/50\n",
            "8738/8738 [==============================] - 41s 5ms/step - loss: 0.0380 - accuracy: 0.9906\n",
            "Epoch 32/50\n",
            "8738/8738 [==============================] - 40s 5ms/step - loss: 0.0352 - accuracy: 0.9914\n",
            "Epoch 33/50\n",
            "8738/8738 [==============================] - 41s 5ms/step - loss: 0.0363 - accuracy: 0.9911\n",
            "Epoch 34/50\n",
            "8738/8738 [==============================] - 41s 5ms/step - loss: 0.0334 - accuracy: 0.9917\n",
            "Epoch 35/50\n",
            "8738/8738 [==============================] - 41s 5ms/step - loss: 0.0354 - accuracy: 0.9914\n",
            "Epoch 36/50\n",
            "8738/8738 [==============================] - 41s 5ms/step - loss: 0.0360 - accuracy: 0.9916\n",
            "Epoch 37/50\n",
            "8738/8738 [==============================] - 40s 5ms/step - loss: 0.0369 - accuracy: 0.9912\n",
            "Epoch 38/50\n",
            "8738/8738 [==============================] - 41s 5ms/step - loss: 0.0344 - accuracy: 0.9919\n",
            "Epoch 39/50\n",
            "8738/8738 [==============================] - 41s 5ms/step - loss: 0.0339 - accuracy: 0.9917\n",
            "Epoch 40/50\n",
            "8738/8738 [==============================] - 40s 5ms/step - loss: 0.0318 - accuracy: 0.9925\n",
            "Epoch 41/50\n",
            "8738/8738 [==============================] - 40s 5ms/step - loss: 0.0360 - accuracy: 0.9918\n",
            "Epoch 42/50\n",
            "8738/8738 [==============================] - 40s 5ms/step - loss: 0.0374 - accuracy: 0.9913\n",
            "Epoch 43/50\n",
            "8738/8738 [==============================] - 41s 5ms/step - loss: 0.0347 - accuracy: 0.9919\n",
            "Epoch 44/50\n",
            "8738/8738 [==============================] - 41s 5ms/step - loss: 0.0342 - accuracy: 0.9919\n",
            "Epoch 45/50\n",
            "8738/8738 [==============================] - 41s 5ms/step - loss: 0.0367 - accuracy: 0.9913\n",
            "Epoch 46/50\n",
            "8738/8738 [==============================] - 40s 5ms/step - loss: 0.0329 - accuracy: 0.9924\n",
            "Epoch 47/50\n",
            "8738/8738 [==============================] - 40s 5ms/step - loss: 0.0331 - accuracy: 0.9924\n",
            "Epoch 48/50\n",
            "8738/8738 [==============================] - 40s 5ms/step - loss: 0.0316 - accuracy: 0.9927\n",
            "Epoch 49/50\n",
            "8738/8738 [==============================] - 41s 5ms/step - loss: 0.0342 - accuracy: 0.9922\n",
            "Epoch 50/50\n",
            "8738/8738 [==============================] - 41s 5ms/step - loss: 0.0346 - accuracy: 0.9922\n"
          ]
        },
        {
          "data": {
            "text/plain": [
              "<keras.callbacks.History at 0x7fe109492d30>"
            ]
          },
          "execution_count": 37,
          "metadata": {},
          "output_type": "execute_result"
        }
      ],
      "source": [
        "cnn1.fit(X_train.reshape(-1,50,50), train_label1, epochs=50)"
      ]
    },
    {
      "cell_type": "code",
      "execution_count": null,
      "metadata": {},
      "outputs": [],
      "source": [
        "y_test\n",
        "b = np.zeros((y_test.size, y_test.max() + 1))\n",
        "b[np.arange(y_test.size), y_test] = 1\n",
        "np.shape(y_test)"
      ]
    },
    {
      "cell_type": "code",
      "execution_count": 46,
      "metadata": {},
      "outputs": [
        {
          "data": {
            "text/plain": [
              "0.949999988079071"
            ]
          },
          "execution_count": 46,
          "metadata": {},
          "output_type": "execute_result"
        }
      ],
      "source": [
        "test_eval = cnn1.evaluate(X_test1, y_test, verbose=0)\n",
        "test_eval[1]"
      ]
    },
    {
      "cell_type": "code",
      "execution_count": 47,
      "metadata": {},
      "outputs": [
        {
          "name": "stdout",
          "output_type": "stream",
          "text": [
            "13/13 [==============================] - 0s 2ms/step\n"
          ]
        }
      ],
      "source": [
        "cnn_predictions=cnn1.predict(X_test)"
      ]
    },
    {
      "cell_type": "code",
      "execution_count": 48,
      "metadata": {},
      "outputs": [
        {
          "data": {
            "text/plain": [
              "[2,\n",
              " 13,\n",
              " 19,\n",
              " 2,\n",
              " 13,\n",
              " 4,\n",
              " 8,\n",
              " 13,\n",
              " 21,\n",
              " 21,\n",
              " 13,\n",
              " 6,\n",
              " 5,\n",
              " 8,\n",
              " 27,\n",
              " 27,\n",
              " 13,\n",
              " 30,\n",
              " 19,\n",
              " 13,\n",
              " 23,\n",
              " 8,\n",
              " 17,\n",
              " 23,\n",
              " 22,\n",
              " 13,\n",
              " 18,\n",
              " 15,\n",
              " 11,\n",
              " 8,\n",
              " 8,\n",
              " 7,\n",
              " 26,\n",
              " 7,\n",
              " 8,\n",
              " 1,\n",
              " 5,\n",
              " 13,\n",
              " 8,\n",
              " 13,\n",
              " 13,\n",
              " 12,\n",
              " 13,\n",
              " 15,\n",
              " 6,\n",
              " 6,\n",
              " 8,\n",
              " 13,\n",
              " 23,\n",
              " 18,\n",
              " 18,\n",
              " 3,\n",
              " 13,\n",
              " 6,\n",
              " 16,\n",
              " 19,\n",
              " 26,\n",
              " 15,\n",
              " 27,\n",
              " 23,\n",
              " 21,\n",
              " 15,\n",
              " 13,\n",
              " 17,\n",
              " 13,\n",
              " 6,\n",
              " 13,\n",
              " 26,\n",
              " 3,\n",
              " 13,\n",
              " 4,\n",
              " 2,\n",
              " 11,\n",
              " 14,\n",
              " 8,\n",
              " 13,\n",
              " 13,\n",
              " 13,\n",
              " 13,\n",
              " 8,\n",
              " 13,\n",
              " 3,\n",
              " 30,\n",
              " 13,\n",
              " 21,\n",
              " 8,\n",
              " 4,\n",
              " 29,\n",
              " 13,\n",
              " 24,\n",
              " 21,\n",
              " 9,\n",
              " 8,\n",
              " 8,\n",
              " 4,\n",
              " 26,\n",
              " 14,\n",
              " 8,\n",
              " 13,\n",
              " 19,\n",
              " 26,\n",
              " 19,\n",
              " 8,\n",
              " 13,\n",
              " 21,\n",
              " 12,\n",
              " 26,\n",
              " 8,\n",
              " 21,\n",
              " 13,\n",
              " 18,\n",
              " 13,\n",
              " 24,\n",
              " 27,\n",
              " 8,\n",
              " 23,\n",
              " 30,\n",
              " 13,\n",
              " 13,\n",
              " 18,\n",
              " 22,\n",
              " 13,\n",
              " 11,\n",
              " 13,\n",
              " 22,\n",
              " 29,\n",
              " 13,\n",
              " 3,\n",
              " 16,\n",
              " 26,\n",
              " 8,\n",
              " 7,\n",
              " 13,\n",
              " 25,\n",
              " 13,\n",
              " 8,\n",
              " 13,\n",
              " 17,\n",
              " 13,\n",
              " 26,\n",
              " 3,\n",
              " 15,\n",
              " 22,\n",
              " 13,\n",
              " 13,\n",
              " 16,\n",
              " 30,\n",
              " 26,\n",
              " 27,\n",
              " 8,\n",
              " 7,\n",
              " 13,\n",
              " 12,\n",
              " 8,\n",
              " 21,\n",
              " 9,\n",
              " 8,\n",
              " 19,\n",
              " 8,\n",
              " 18,\n",
              " 17,\n",
              " 8,\n",
              " 13,\n",
              " 26,\n",
              " 19,\n",
              " 4,\n",
              " 29,\n",
              " 23,\n",
              " 13,\n",
              " 26,\n",
              " 13,\n",
              " 24,\n",
              " 12,\n",
              " 22,\n",
              " 7,\n",
              " 13,\n",
              " 13,\n",
              " 13,\n",
              " 2,\n",
              " 29,\n",
              " 6,\n",
              " 13,\n",
              " 13,\n",
              " 28,\n",
              " 21,\n",
              " 11,\n",
              " 4,\n",
              " 15,\n",
              " 13,\n",
              " 8,\n",
              " 13,\n",
              " 4,\n",
              " 8,\n",
              " 15,\n",
              " 24,\n",
              " 17,\n",
              " 14,\n",
              " 11,\n",
              " 11,\n",
              " 21,\n",
              " 23,\n",
              " 21,\n",
              " 26,\n",
              " 13,\n",
              " 8,\n",
              " 25,\n",
              " 23,\n",
              " 3,\n",
              " 8,\n",
              " 23,\n",
              " 13,\n",
              " 19,\n",
              " 3,\n",
              " 24,\n",
              " 13,\n",
              " 21,\n",
              " 9,\n",
              " 13,\n",
              " 29,\n",
              " 29,\n",
              " 15,\n",
              " 14,\n",
              " 7,\n",
              " 7,\n",
              " 8,\n",
              " 13,\n",
              " 7,\n",
              " 12,\n",
              " 14,\n",
              " 8,\n",
              " 7,\n",
              " 12,\n",
              " 1,\n",
              " 22,\n",
              " 13,\n",
              " 7,\n",
              " 13,\n",
              " 14,\n",
              " 18,\n",
              " 21,\n",
              " 8,\n",
              " 13,\n",
              " 13,\n",
              " 15,\n",
              " 22,\n",
              " 13,\n",
              " 21,\n",
              " 23,\n",
              " 15,\n",
              " 3,\n",
              " 16,\n",
              " 12,\n",
              " 26,\n",
              " 8,\n",
              " 4,\n",
              " 8,\n",
              " 13,\n",
              " 29,\n",
              " 6,\n",
              " 13,\n",
              " 8,\n",
              " 13,\n",
              " 13,\n",
              " 8,\n",
              " 13,\n",
              " 8,\n",
              " 10,\n",
              " 20,\n",
              " 26,\n",
              " 9,\n",
              " 9,\n",
              " 8,\n",
              " 23,\n",
              " 15,\n",
              " 26,\n",
              " 26,\n",
              " 12,\n",
              " 2,\n",
              " 13,\n",
              " 19,\n",
              " 27,\n",
              " 13,\n",
              " 9,\n",
              " 8,\n",
              " 14,\n",
              " 13,\n",
              " 13,\n",
              " 13,\n",
              " 13,\n",
              " 29,\n",
              " 19,\n",
              " 6,\n",
              " 26,\n",
              " 27,\n",
              " 8,\n",
              " 12,\n",
              " 12,\n",
              " 29,\n",
              " 4,\n",
              " 13,\n",
              " 8,\n",
              " 4,\n",
              " 1,\n",
              " 13,\n",
              " 10,\n",
              " 13,\n",
              " 7,\n",
              " 13,\n",
              " 8,\n",
              " 2,\n",
              " 9,\n",
              " 18,\n",
              " 30,\n",
              " 17,\n",
              " 21,\n",
              " 22,\n",
              " 15,\n",
              " 17,\n",
              " 7,\n",
              " 27,\n",
              " 8,\n",
              " 29,\n",
              " 21,\n",
              " 6,\n",
              " 8,\n",
              " 10,\n",
              " 12,\n",
              " 24,\n",
              " 11,\n",
              " 22,\n",
              " 14,\n",
              " 13,\n",
              " 15,\n",
              " 14,\n",
              " 5,\n",
              " 1,\n",
              " 8,\n",
              " 13,\n",
              " 13,\n",
              " 13,\n",
              " 13,\n",
              " 10,\n",
              " 4,\n",
              " 27,\n",
              " 15,\n",
              " 22,\n",
              " 12,\n",
              " 13,\n",
              " 26,\n",
              " 13,\n",
              " 7,\n",
              " 13,\n",
              " 6,\n",
              " 14,\n",
              " 12,\n",
              " 19,\n",
              " 17,\n",
              " 8,\n",
              " 21,\n",
              " 13,\n",
              " 22,\n",
              " 25,\n",
              " 12,\n",
              " 4,\n",
              " 29,\n",
              " 13,\n",
              " 21,\n",
              " 24,\n",
              " 3,\n",
              " 23,\n",
              " 12,\n",
              " 3,\n",
              " 10,\n",
              " 13,\n",
              " 20,\n",
              " 21,\n",
              " 23,\n",
              " 22,\n",
              " 4,\n",
              " 29,\n",
              " 13,\n",
              " 8,\n",
              " 3,\n",
              " 13,\n",
              " 29,\n",
              " 18,\n",
              " 23,\n",
              " 4,\n",
              " 29,\n",
              " 27,\n",
              " 13,\n",
              " 19,\n",
              " 11,\n",
              " 11,\n",
              " 8,\n",
              " 14,\n",
              " 25,\n",
              " 8,\n",
              " 3,\n",
              " 12]"
            ]
          },
          "execution_count": 48,
          "metadata": {},
          "output_type": "execute_result"
        }
      ],
      "source": [
        "cnn_pred=[np.argmax(i) for i in cnn_predictions]\n",
        "cnn_pred"
      ]
    },
    {
      "cell_type": "code",
      "execution_count": 52,
      "metadata": {},
      "outputs": [
        {
          "name": "stderr",
          "output_type": "stream",
          "text": [
            "/tmp/ipykernel_2960507/4078799144.py:3: SettingWithCopyWarning: \n",
            "A value is trying to be set on a copy of a slice from a DataFrame.\n",
            "Try using .loc[row_indexer,col_indexer] = value instead\n",
            "\n",
            "See the caveats in the documentation: https://pandas.pydata.org/pandas-docs/stable/user_guide/indexing.html#returning-a-view-versus-a-copy\n",
            "  s['Class']=cnn_pred\n"
          ]
        }
      ],
      "source": [
        "test=pd.read_csv('test_data.csv')\n",
        "s=test[[\"ID\"]]\n",
        "s['Class']=cnn_pred\n",
        "s.to_csv(\"submission_cnn.csv\",index=None)"
      ]
    },
    {
      "cell_type": "code",
      "execution_count": null,
      "metadata": {},
      "outputs": [],
      "source": []
    }
  ],
  "metadata": {
    "accelerator": "GPU",
    "colab": {
      "collapsed_sections": [],
      "provenance": []
    },
    "kernelspec": {
      "display_name": "Python 3.8.10 64-bit",
      "language": "python",
      "name": "python3"
    },
    "language_info": {
      "codemirror_mode": {
        "name": "ipython",
        "version": 3
      },
      "file_extension": ".py",
      "mimetype": "text/x-python",
      "name": "python",
      "nbconvert_exporter": "python",
      "pygments_lexer": "ipython3",
      "version": "3.8.10"
    },
    "vscode": {
      "interpreter": {
        "hash": "31f2aee4e71d21fbe5cf8b01ff0e069b9275f58929596ceb00d14d90e3e16cd6"
      }
    }
  },
  "nbformat": 4,
  "nbformat_minor": 0
}
